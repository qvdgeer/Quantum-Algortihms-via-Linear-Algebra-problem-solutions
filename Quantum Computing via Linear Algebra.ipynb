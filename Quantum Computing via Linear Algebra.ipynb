{
 "cells": [
  {
   "cell_type": "markdown",
   "metadata": {},
   "source": [
    "Quantum Algorithms via Linear Algebra Problem 5.5 proposed solution"
   ]
  },
  {
   "cell_type": "markdown",
   "metadata": {},
   "source": [
    "$$ F_{2N} = \\frac{1}{\\sqrt{2N}}  \\begin{bmatrix} \n",
    "    1 & 1 & 1 & \\dots & 1\\\\\n",
    "    1 & \\omega  & \\omega^2 & \\dots & \\omega^{2N-1} \\\\\n",
    "    1 & \\omega^2 & \\omega^3 & \\dots \\\\\n",
    "    1 & \\omega^3 & \\omega^4 & \\dots \\\\\n",
    "    \\vdots &  \\\\\n",
    "    1 &  \\omega^{2N-1} & \\omega^{2N-2} &  \\dots & \\omega \n",
    "    \\end{bmatrix}\n",
    "$$"
   ]
  },
  {
   "cell_type": "markdown",
   "metadata": {},
   "source": [
    "Diagonal matrix formed by  top half of second column of $ F_{2N} $ (unnormalised - although question states normalised)\n",
    "\n",
    "$$ D_{N} =   \\begin{bmatrix} \n",
    "    1 & 0& \\dots & 0\\\\\n",
    "    0 & \\dots & 0 & \\omega^{N-1} \n",
    "    \\end{bmatrix}\n",
    "$$"
   ]
  },
  {
   "cell_type": "markdown",
   "metadata": {},
   "source": [
    "Twist matrix $$T_{\\alpha} =\\begin{bmatrix} \n",
    "1 & 0 \\\\\n",
    "0 & \\exp{i\\alpha}\n",
    "\\end{bmatrix}  = \\begin{bmatrix} \n",
    "1 & 0 \\\\\n",
    "0 & \\omega\n",
    "    \\end{bmatrix} ; \\alpha = 2\\pi /N\n",
    "$$"
   ]
  },
  {
   "cell_type": "markdown",
   "metadata": {},
   "source": [
    "Now $$T_{2\\alpha} \\otimes T_{\\alpha}  = \\begin{bmatrix} \n",
    "1 & 0 \\\\\n",
    "0 & \\omega^{2}\n",
    "\\end{bmatrix}  \\otimes  \\begin{bmatrix} \n",
    "1 & 0 \\\\\n",
    "0 & \\omega\n",
    "    \\end{bmatrix} =\\begin{bmatrix}    \n",
    "    1 & 0 & 0 & 0 \\\\\n",
    "    0 & \\omega & 0 & 0 \\\\\n",
    "    0 & 0 & \\omega^{2} & 0 \\\\\n",
    "    0 & 0 & 0 & \\omega^{3}    \n",
    "    \\end{bmatrix}  =  D_4\n",
    "$$"
   ]
  },
  {
   "cell_type": "markdown",
   "metadata": {},
   "source": [
    "Similarly $$T_{4\\alpha} \\otimes T_{2\\alpha} \\otimes T_{\\alpha}  =\\begin{bmatrix} \n",
    "1 & 0 \\\\\n",
    "0 & \\omega^{4}\n",
    "\\end{bmatrix}  \\otimes \\begin{bmatrix} \n",
    "1 & 0 \\\\\n",
    "0 & \\omega^{2}\n",
    "\\end{bmatrix}  \\otimes  \\begin{bmatrix} \n",
    "1 & 0 \\\\\n",
    "0 & \\omega\n",
    "    \\end{bmatrix} =\\begin{bmatrix}    \n",
    "    1 & 0 & 0 & 0  & 0 & 0 & 0 & 0 \\\\\n",
    "    0 & \\omega & 0 & 0  & 0 & 0 & 0 & 0\\\\\n",
    "    0 & 0 & \\omega^{2} & 0 & 0 & 0 & 0 & 0\\\\\n",
    "    0 & 0 & 0 & \\omega^{3} & 0 & 0 & 0 & 0  \\\\\n",
    "    0 & 0 & 0 & 0 & \\omega^{4} & 0 & 0 & 0 \\\\\n",
    "    0 & 0 & 0 & 0 & 0 & \\omega^{5} & 0 & 0  \\\\\n",
    "    0 & 0 & 0 & 0 & 0 & 0 &  \\omega^{6} & 0 \\\\\n",
    "    0 & 0 & 0 & 0 & 0 & 0 & 0 & \\omega^{7}     \n",
    "    \\end{bmatrix}  =  D_8\n",
    "$$"
   ]
  },
  {
   "cell_type": "markdown",
   "metadata": {},
   "source": [
    "Assume then that $$D_{N}  =   T_{\\frac{N}{2}\\alpha}  \\otimes T_{\\frac{N}{4}\\alpha} \\otimes \\dots \\otimes T_{\\alpha}  \\space  \\space   (i) \\space for \\space N \\space even $$\n"
   ]
  },
  {
   "cell_type": "markdown",
   "metadata": {},
   "source": [
    "Now $$T_{N\\alpha} \\otimes T_{\\frac{N}{2}\\alpha}  \\otimes T_{\\frac{N}{4}\\alpha} \\otimes \\dots \\otimes T_{\\alpha}  \n",
    " = \\begin{bmatrix} \n",
    "1 & 0 \\\\\n",
    "0 & \\omega^{N}\n",
    "    \\end{bmatrix} \\otimes T_{\\frac{N}{2}\\alpha} \\otimes \\dots \\otimes T_{\\alpha} =\\begin{bmatrix} \n",
    "1 & 0 \\\\\n",
    "0 & \\omega^{N}\n",
    "    \\end{bmatrix} \\otimes D_{N}$$ "
   ]
  },
  {
   "cell_type": "markdown",
   "metadata": {},
   "source": [
    "$$ = \\begin{bmatrix} \n",
    "1 & 0 \\\\\n",
    "0 & \\omega^{N}\n",
    "    \\end{bmatrix} \\otimes \\begin{bmatrix}    \n",
    "    1 & 0 & 0 & 0 \\\\\n",
    "    0 & \\omega & 0 & 0 \\\\\n",
    "    0 & 0 & \\ddots & 0 \\\\\n",
    "    0 & 0 & 0 & \\omega^{N-1}    \n",
    "    \\end{bmatrix} $$"
   ]
  },
  {
   "cell_type": "markdown",
   "metadata": {},
   "source": [
    "$$= \\begin{bmatrix}    \n",
    "    1 & 0 & 0 & 0 \\\\\n",
    "    0 & \\omega & 0 & 0 \\\\\n",
    "    0 & 0 & \\ddots & 0 \\\\\n",
    "    0 & 0 & 0 & \\omega^{2N-1}    \n",
    "    \\end{bmatrix} = D_{2N} $$"
   ]
  },
  {
   "cell_type": "markdown",
   "metadata": {},
   "source": [
    "$$\\therefore D_{N}  =   T_{\\frac{N}{2}\\alpha}  \\otimes T_{\\frac{N}{4}\\alpha} \\otimes \\dots \\otimes T_{\\alpha} \\space for \\space N \\space even \\space by  \\space induction $$"
   ]
  },
  {
   "cell_type": "code",
   "execution_count": null,
   "metadata": {},
   "outputs": [],
   "source": []
  }
 ],
 "metadata": {
  "kernelspec": {
   "display_name": "Julia 0.7.0",
   "language": "julia",
   "name": "julia-0.7"
  },
  "language_info": {
   "file_extension": ".jl",
   "mimetype": "application/julia",
   "name": "julia",
   "version": "0.7.0"
  }
 },
 "nbformat": 4,
 "nbformat_minor": 2
}
